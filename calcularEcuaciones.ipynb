{
 "cells": [
  {
   "cell_type": "code",
   "execution_count": 1,
   "id": "7a3fc4c0-259a-44e3-8a5e-f8dfd02862d1",
   "metadata": {},
   "outputs": [],
   "source": [
    "from IPython.display import display, Math\n",
    "import numpy as np"
   ]
  },
  {
   "cell_type": "code",
   "execution_count": 2,
   "id": "3f3a2eba-59fc-4c75-9754-fb0697f4b1f7",
   "metadata": {},
   "outputs": [],
   "source": [
    "def ecuacionGeneral(p, v, u):\n",
    "    a, b, c = p #destructuring\n",
    "    display(\n",
    "        Math(\n",
    "            rf\"\"\"\n",
    "            0 = {v[1]*u[2] - v[2]*u[1]}x + {v[2]*u[0] - v[0]*u[2]}y + {v[0]*u[1] - v[1]*u[0]}z + {\n",
    "            -a*v[1]*u[2] - b*v[2]*u[0] - c*v[0]*u[1] + a*v[2]*u[1] + b*v[0]*u[2] + c*v[1]*u[0]\n",
    "            }\n",
    "            \"\"\"\n",
    "        )\n",
    "    )"
   ]
  },
  {
   "cell_type": "code",
   "execution_count": 3,
   "id": "f8cfd42f-d99d-42ad-9e35-5e149b0cae49",
   "metadata": {},
   "outputs": [],
   "source": [
    "def compararVectoresDirectores(v, u):\n",
    "    equal = True\n",
    "    proportion = \"\"\n",
    "\n",
    "    for i in range(0, v.shape[0]):\n",
    "        # Evitamos tratar de dividir entre 0\n",
    "        if(v[i] == 0):\n",
    "            if (u[i] == 0):\n",
    "                equal = True\n",
    "            else:\n",
    "                equal = False\n",
    "        else:\n",
    "            if (proportion == \"\"):\n",
    "                proportion = v[i] / u[i]\n",
    "            else:\n",
    "                if(proportion == v[i] / u[i]):   \n",
    "                    equal = True\n",
    "                else:\n",
    "                    equal = False\n",
    "\n",
    "    return equal"
   ]
  },
  {
   "cell_type": "code",
   "execution_count": 17,
   "id": "d06212db-79bb-437b-b01d-9d7293bcf576",
   "metadata": {},
   "outputs": [],
   "source": [
    "def newVector(A, B): #Construimos un vector a partir de dos puntos\n",
    "    vector = []\n",
    "    for i in range(0, A.shape[0]):\n",
    "        vector.append(B[i] - A[i])\n",
    "        \n",
    "    \n",
    "    vector = np.array(vector)\n",
    "    return vector"
   ]
  },
  {
   "cell_type": "code",
   "execution_count": null,
   "id": "1f8cb387-2f6e-4056-b9d6-2a24eeec5b33",
   "metadata": {},
   "outputs": [],
   "source": [
    "def onePointInLine(a, c, d):\n",
    "    v = d-c\n",
    "\n",
    "    pointInLine = True\n",
    "\n",
    "    lambdaValue = (a[0] - c[0]) / v[0]\n",
    "    for i in range(1, a.shape[0]):\n",
    "        if (lambdaValue != (a[0] - c[0]) / v[0]):\n",
    "            pointInLine = False\n",
    "    \n",
    "    return pointInLine"
   ]
  },
  {
   "cell_type": "code",
   "execution_count": 21,
   "id": "367835bb-9ae8-40ed-8544-0b7bd5742262",
   "metadata": {},
   "outputs": [],
   "source": [
    "def typeVectorPair(v, u):\n",
    "    if (compararVectoresDirectores(v, u)):\n",
    "        if (): # si las rectas son coincindentes\n",
    "            print(\"Se trata de dos rectas coincidentes.\")\n",
    "        else:\n",
    "            print(\"Se tratan de dos rectas paralelas son coindicentes\")\n",
    "    else:\n",
    "        thirdVector = newVector(v, u) # A partir de los vectores v y u creamos un nuevo vector que contienen los puntos finales.\n",
    "        M = np.array([v, u, thirdVector])\n",
    "        matrix = M.T #Nos interesa ver los vectores como las columnas de la matriz.\n",
    "        if (np.linalg.det(matrix) == 0): # el determinante de la matriz con esos dos y un tercero formado por puntos de los dos.\n",
    "            if (np.dot(v, u)): # Hacemos el producto escalar de los dos vectores.\n",
    "                print(\"Se tratan de dos rectas perpendiculares.\")\n",
    "            else:\n",
    "                print(\"Se trata de dos rectas secantes.\")\n",
    "        else:\n",
    "            print(\"Rectes que es creuen.\")    "
   ]
  },
  {
   "cell_type": "code",
   "execution_count": 5,
   "id": "2918587c-8f07-43d0-ac3f-3c82218f7fd3",
   "metadata": {},
   "outputs": [],
   "source": [
    "# p = (1, 2, 3)\n",
    "# v = (2, 0, 3)\n",
    "# u = (1, 4, 5)"
   ]
  },
  {
   "cell_type": "code",
   "execution_count": 6,
   "id": "a2bab3c4-cf3f-4bb1-b2c1-84971a061916",
   "metadata": {},
   "outputs": [],
   "source": [
    "# ecuacionGeneral(p, v, u)"
   ]
  }
 ],
 "metadata": {
  "kernelspec": {
   "display_name": "Python [conda env:base] *",
   "language": "python",
   "name": "conda-base-py"
  },
  "language_info": {
   "codemirror_mode": {
    "name": "ipython",
    "version": 3
   },
   "file_extension": ".py",
   "mimetype": "text/x-python",
   "name": "python",
   "nbconvert_exporter": "python",
   "pygments_lexer": "ipython3",
   "version": "3.12.7"
  }
 },
 "nbformat": 4,
 "nbformat_minor": 5
}
