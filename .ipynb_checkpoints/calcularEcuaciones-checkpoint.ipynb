{
 "cells": [
  {
   "cell_type": "code",
   "execution_count": 27,
   "id": "7a3fc4c0-259a-44e3-8a5e-f8dfd02862d1",
   "metadata": {},
   "outputs": [],
   "source": [
    "from IPython.display import display, Math"
   ]
  },
  {
   "cell_type": "code",
   "execution_count": 29,
   "id": "3f3a2eba-59fc-4c75-9754-fb0697f4b1f7",
   "metadata": {},
   "outputs": [],
   "source": [
    "def ecuacionGeneral(p, v, u):\n",
    "    a, b, c = p #destructuring\n",
    "    display(\n",
    "        Math(\n",
    "            rf\"\"\"\n",
    "            0 = {v[1]*u[2] - v[2]*u[1]}x + {v[2]*u[0] - v[0]*u[2]}y + {v[0]*u[1] - v[1]*u[0]}z + {\n",
    "            -a*v[1]*u[2] - b*v[2]*u[0] - c*v[0]*u[1] + a*v[2]*u[1] + b*v[0]*u[2] + c*v[1]*u[0]\n",
    "            }\n",
    "            \"\"\"\n",
    "        )\n",
    "    )"
   ]
  },
  {
   "cell_type": "code",
   "execution_count": 23,
   "id": "2918587c-8f07-43d0-ac3f-3c82218f7fd3",
   "metadata": {},
   "outputs": [],
   "source": [
    "# p = (1, 2, 3)\n",
    "# v = (2, 0, 3)\n",
    "# u = (1, 4, 5)"
   ]
  },
  {
   "cell_type": "code",
   "execution_count": 25,
   "id": "a2bab3c4-cf3f-4bb1-b2c1-84971a061916",
   "metadata": {},
   "outputs": [],
   "source": [
    "# ecuacionGeneral(p, v, u)"
   ]
  }
 ],
 "metadata": {
  "kernelspec": {
   "display_name": "Python 3 (ipykernel)",
   "language": "python",
   "name": "python3"
  },
  "language_info": {
   "codemirror_mode": {
    "name": "ipython",
    "version": 3
   },
   "file_extension": ".py",
   "mimetype": "text/x-python",
   "name": "python",
   "nbconvert_exporter": "python",
   "pygments_lexer": "ipython3",
   "version": "3.12.7"
  }
 },
 "nbformat": 4,
 "nbformat_minor": 5
}
