{
 "cells": [
  {
   "cell_type": "code",
   "execution_count": 5,
   "id": "7a3fc4c0-259a-44e3-8a5e-f8dfd02862d1",
   "metadata": {},
   "outputs": [],
   "source": [
    "from IPython.display import display, Math\n",
    "import numpy as np"
   ]
  },
  {
   "cell_type": "code",
   "execution_count": 3,
   "id": "3f3a2eba-59fc-4c75-9754-fb0697f4b1f7",
   "metadata": {},
   "outputs": [],
   "source": [
    "def ecuacionGeneral(p, v, u):\n",
    "    a, b, c = p #destructuring\n",
    "    display(\n",
    "        Math(\n",
    "            rf\"\"\"\n",
    "            0 = {v[1]*u[2] - v[2]*u[1]}x + {v[2]*u[0] - v[0]*u[2]}y + {v[0]*u[1] - v[1]*u[0]}z + {\n",
    "            -a*v[1]*u[2] - b*v[2]*u[0] - c*v[0]*u[1] + a*v[2]*u[1] + b*v[0]*u[2] + c*v[1]*u[0]\n",
    "            }\n",
    "            \"\"\"\n",
    "        )\n",
    "    )"
   ]
  },
  {
   "cell_type": "code",
   "execution_count": 11,
   "id": "ffb28411-321b-4526-af7c-6a96c260774a",
   "metadata": {},
   "outputs": [
    {
     "name": "stdout",
     "output_type": "stream",
     "text": [
      "0\n",
      "1\n"
     ]
    }
   ],
   "source": [
    "for i in range(0, 2):\n",
    "    print(i)"
   ]
  },
  {
   "cell_type": "code",
   "execution_count": null,
   "id": "f8cfd42f-d99d-42ad-9e35-5e149b0cae49",
   "metadata": {},
   "outputs": [],
   "source": [
    "def compararVectoresDirectores(v, u):\n",
    "    equal = True\n",
    "\n",
    "    for i in range(0, v.shape):\n",
    "        # Evitamos tratar de dividir entre 0\n",
    "        if(v[i] == 0):\n",
    "            if (u[i] == 0):\n",
    "                equal = True\n",
    "            else:\n",
    "                equal = False\n",
    "        else:\n",
    "            "
   ]
  },
  {
   "cell_type": "code",
   "execution_count": 7,
   "id": "367835bb-9ae8-40ed-8544-0b7bd5742262",
   "metadata": {},
   "outputs": [],
   "source": [
    "def typeVectorPair(v, u):\n",
    "    if (np.linalg.norm(v) == np.linalg.norm(u)):\n",
    "        if (): # si las rectas son coincindentes\n",
    "            print(\"Se trata de dos rectas coincidentes.\")\n",
    "        else:\n",
    "            print(\"Se tratan de dos rectas paralelas son coindicentes\")\n",
    "    else:\n",
    "        if (): # el determinante de la matriz con esos dos y un tercero formado por puntos de los dos.\n",
    "            if (np.dot(v, u)): # Hacemos el producto escalar de los dos vectores.\n",
    "                print(\"Se tratan de dos rectas perpendiculares.\")\n",
    "            else:\n",
    "                print(\"Se trata de dos rectas secantes.\")\n",
    "        else:\n",
    "            print(\"Rectes que es creuen.\")\n",
    "            \n",
    "            \n",
    "        \n",
    "        \n",
    "    "
   ]
  },
  {
   "cell_type": "code",
   "execution_count": 23,
   "id": "2918587c-8f07-43d0-ac3f-3c82218f7fd3",
   "metadata": {},
   "outputs": [],
   "source": [
    "# p = (1, 2, 3)\n",
    "# v = (2, 0, 3)\n",
    "# u = (1, 4, 5)"
   ]
  },
  {
   "cell_type": "code",
   "execution_count": 25,
   "id": "a2bab3c4-cf3f-4bb1-b2c1-84971a061916",
   "metadata": {},
   "outputs": [],
   "source": [
    "# ecuacionGeneral(p, v, u)"
   ]
  }
 ],
 "metadata": {
  "kernelspec": {
   "display_name": "Python [conda env:base] *",
   "language": "python",
   "name": "conda-base-py"
  },
  "language_info": {
   "codemirror_mode": {
    "name": "ipython",
    "version": 3
   },
   "file_extension": ".py",
   "mimetype": "text/x-python",
   "name": "python",
   "nbconvert_exporter": "python",
   "pygments_lexer": "ipython3",
   "version": "3.12.7"
  }
 },
 "nbformat": 4,
 "nbformat_minor": 5
}
